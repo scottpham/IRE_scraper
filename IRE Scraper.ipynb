{
 "metadata": {
  "name": "",
  "signature": "sha256:05a7caf07dc5d18556cf4b551698e4bd0ec93ce8c5a643dfdc352975e349cc61"
 },
 "nbformat": 3,
 "nbformat_minor": 0,
 "worksheets": [
  {
   "cells": [
    {
     "cell_type": "code",
     "collapsed": false,
     "input": [
      "import csv\n",
      "import requests\n",
      "from bs4 import BeautifulSoup"
     ],
     "language": "python",
     "metadata": {},
     "outputs": [],
     "prompt_number": 379
    },
    {
     "cell_type": "code",
     "collapsed": false,
     "input": [
      "url = 'http://ire.org/conferences/ire-2014/schedule/'\n",
      "\n",
      "r = requests.get(url)\n",
      "html_soup = BeautifulSoup(r.text)\n"
     ],
     "language": "python",
     "metadata": {},
     "outputs": [],
     "prompt_number": 380
    },
    {
     "cell_type": "markdown",
     "metadata": {},
     "source": [
      "**Print raw html for reference**(optional)\n"
     ]
    },
    {
     "cell_type": "markdown",
     "metadata": {},
     "source": [
      "print html_soup.prettify()"
     ]
    },
    {
     "cell_type": "markdown",
     "metadata": {},
     "source": [
      "**Get Titles**"
     ]
    },
    {
     "cell_type": "code",
     "collapsed": false,
     "input": [
      "titles = html_soup.find_all('h3', 'title3')\n",
      "titleColumn = []\n",
      "for a in titles[:]:\n",
      "    x = a.text\n",
      "    titleColumn.append(x)"
     ],
     "language": "python",
     "metadata": {},
     "outputs": [],
     "prompt_number": 381
    },
    {
     "cell_type": "markdown",
     "metadata": {},
     "source": [
      "**Get Links**"
     ]
    },
    {
     "cell_type": "code",
     "collapsed": false,
     "input": [
      "linksColumn = []\n",
      "\n",
      "for a in titles[:]:\n",
      "    link = a.next\n",
      "    linksColumn.append('http://ire.org' + link.get('href'))\n",
      "\n",
      "   "
     ],
     "language": "python",
     "metadata": {},
     "outputs": [],
     "prompt_number": 382
    },
    {
     "cell_type": "markdown",
     "metadata": {},
     "source": [
      "**Get Divs**"
     ]
    },
    {
     "cell_type": "code",
     "collapsed": false,
     "input": [
      "divs = html_soup.find_all('div', class_=\"col-60\")\n"
     ],
     "language": "python",
     "metadata": {},
     "outputs": [],
     "prompt_number": 383
    },
    {
     "cell_type": "markdown",
     "metadata": {},
     "source": [
      "**Get Speakers**"
     ]
    },
    {
     "cell_type": "code",
     "collapsed": false,
     "input": [
      "speakersColumn = []\n",
      "\n",
      "for a in divs[:]:\n",
      "    name = (a.p).text[9:]\n",
      "    x = name.strip()\n",
      "    speakersColumn.append(x)"
     ],
     "language": "python",
     "metadata": {},
     "outputs": [],
     "prompt_number": 384
    },
    {
     "cell_type": "markdown",
     "metadata": {},
     "source": [
      "**Get Descriptions**\n",
      "\n"
     ]
    },
    {
     "cell_type": "code",
     "collapsed": false,
     "input": [
      "descriptionsColumn = []\n",
      "\n",
      "for a in divs[0:]:\n",
      "    p0 = a.find_all('p')\n",
      "    col = ''.encode(\"utf8\")\n",
      "    for each in p0[1:]:\n",
      "        x = each.get_text()\n",
      "        x1 = x.encode(\"utf8\")\n",
      "        col +=  (x1)\n",
      "    descriptionsColumn.append(col)"
     ],
     "language": "python",
     "metadata": {},
     "outputs": [],
     "prompt_number": 385
    },
    {
     "cell_type": "markdown",
     "metadata": {},
     "source": [
      "**Get Locations**"
     ]
    },
    {
     "cell_type": "code",
     "collapsed": false,
     "input": [
      "locations = html_soup.find_all('div', 'col-15')"
     ],
     "language": "python",
     "metadata": {},
     "outputs": [],
     "prompt_number": 386
    },
    {
     "cell_type": "code",
     "collapsed": false,
     "input": [
      "locationsColumn = []\n",
      "\n",
      "for a in locations[:]:\n",
      "    x = a.p\n",
      "    locationsColumn.append(x.string)"
     ],
     "language": "python",
     "metadata": {},
     "outputs": [],
     "prompt_number": 387
    },
    {
     "cell_type": "markdown",
     "metadata": {},
     "source": [
      "**Get Times**"
     ]
    },
    {
     "cell_type": "code",
     "collapsed": false,
     "input": [
      "timesColumn = []\n",
      "\n",
      "for a in locations[:]:\n",
      "    group = (a.find_all('p'))\n",
      "    timesColumn.append(group[1].string)"
     ],
     "language": "python",
     "metadata": {},
     "outputs": [],
     "prompt_number": 388
    },
    {
     "cell_type": "markdown",
     "metadata": {},
     "source": [
      "**CSV stuff**"
     ]
    },
    {
     "cell_type": "code",
     "collapsed": false,
     "input": [
      "csvfile = open('IREschedule.csv', 'w')\n",
      "csvwriter = csv.writer(csvfile, delimiter = ',')\n",
      "headers = ('TITLE', 'LINK', 'DESCRIPTIONS', 'SPEAKERS', 'LOCATIONS', 'TIME')\n",
      "csvwriter.writerow(headers)"
     ],
     "language": "python",
     "metadata": {},
     "outputs": [],
     "prompt_number": 389
    },
    {
     "cell_type": "code",
     "collapsed": false,
     "input": [
      "i = 0\n",
      "while i < 209:\n",
      "    title = titleColumn[i].encode(\"utf8\")\n",
      "    link = linksColumn[i].encode(\"utf8\")\n",
      "    description = descriptionsColumn[i]\n",
      "    speaker = speakersColumn[i].encode(\"utf8\")\n",
      "    location = locationsColumn[i].encode(\"utf8\")\n",
      "    time = timesColumn[i].encode(\"utf8\")\n",
      "    parsed_row = (title, link, description, speaker, location, time)\n",
      "    csvwriter.writerow(parsed_row)\n",
      "    i += 1"
     ],
     "language": "python",
     "metadata": {},
     "outputs": [],
     "prompt_number": 390
    },
    {
     "cell_type": "code",
     "collapsed": false,
     "input": [
      "csvfile.close()"
     ],
     "language": "python",
     "metadata": {},
     "outputs": [],
     "prompt_number": 391
    },
    {
     "cell_type": "code",
     "collapsed": false,
     "input": [],
     "language": "python",
     "metadata": {},
     "outputs": [],
     "prompt_number": 391
    }
   ],
   "metadata": {}
  }
 ]
}